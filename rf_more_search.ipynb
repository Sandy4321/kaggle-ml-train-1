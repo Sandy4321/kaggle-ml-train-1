{
 "cells": [
  {
   "cell_type": "code",
   "execution_count": 1,
   "metadata": {
    "collapsed": true
   },
   "outputs": [],
   "source": [
    "%matplotlib inline\n",
    "import matplotlib.pyplot as plt\n",
    "import numpy as np\n",
    "import pandas as pd\n",
    "import seaborn as sns\n",
    "from tqdm import tnrange, tqdm_notebook\n",
    "import gc"
   ]
  },
  {
   "cell_type": "code",
   "execution_count": 2,
   "metadata": {
    "collapsed": true
   },
   "outputs": [],
   "source": [
    "sns.set_context('talk')"
   ]
  },
  {
   "cell_type": "markdown",
   "metadata": {},
   "source": [
    "# Read the data"
   ]
  },
  {
   "cell_type": "code",
   "execution_count": 3,
   "metadata": {
    "collapsed": true
   },
   "outputs": [],
   "source": [
    "dfXtrain = pd.read_csv('preprocessed_csv/train_more.csv', index_col='id')\n",
    "dfXtest = pd.read_csv('preprocessed_csv/test_more.csv', index_col='id')\n",
    "dfYtrain = pd.read_csv('preprocessed_csv/y_train_more.csv', header=None, names=['INDEX', 'P_TARGET_FLAG'])"
   ]
  },
  {
   "cell_type": "code",
   "execution_count": 4,
   "metadata": {
    "collapsed": true
   },
   "outputs": [],
   "source": [
    "x_train = np.array(dfXtrain)\n",
    "x_test = np.array(dfXtest)\n",
    "\n",
    "y_train = np.array(dfYtrain['P_TARGET_FLAG'])"
   ]
  },
  {
   "cell_type": "markdown",
   "metadata": {},
   "source": [
    "# Save routines"
   ]
  },
  {
   "cell_type": "code",
   "execution_count": 5,
   "metadata": {
    "collapsed": false
   },
   "outputs": [
    {
     "data": {
      "text/html": [
       "<div>\n",
       "<table border=\"1\" class=\"dataframe\">\n",
       "  <thead>\n",
       "    <tr style=\"text-align: right;\">\n",
       "      <th></th>\n",
       "      <th>INDEX</th>\n",
       "      <th>P_TARGET_FLAG</th>\n",
       "    </tr>\n",
       "  </thead>\n",
       "  <tbody>\n",
       "    <tr>\n",
       "      <th>0</th>\n",
       "      <td>3</td>\n",
       "      <td>0.0</td>\n",
       "    </tr>\n",
       "    <tr>\n",
       "      <th>1</th>\n",
       "      <td>9</td>\n",
       "      <td>0.0</td>\n",
       "    </tr>\n",
       "    <tr>\n",
       "      <th>2</th>\n",
       "      <td>10</td>\n",
       "      <td>0.0</td>\n",
       "    </tr>\n",
       "    <tr>\n",
       "      <th>3</th>\n",
       "      <td>18</td>\n",
       "      <td>0.0</td>\n",
       "    </tr>\n",
       "    <tr>\n",
       "      <th>4</th>\n",
       "      <td>21</td>\n",
       "      <td>0.0</td>\n",
       "    </tr>\n",
       "  </tbody>\n",
       "</table>\n",
       "</div>"
      ],
      "text/plain": [
       "   INDEX  P_TARGET_FLAG\n",
       "0      3            0.0\n",
       "1      9            0.0\n",
       "2     10            0.0\n",
       "3     18            0.0\n",
       "4     21            0.0"
      ]
     },
     "execution_count": 5,
     "metadata": {},
     "output_type": "execute_result"
    }
   ],
   "source": [
    "dfYtest = pd.DataFrame({'INDEX': dfXtest.index, 'P_TARGET_FLAG': np.zeros(x_test.shape[0])})\n",
    "dfYtest.head()"
   ]
  },
  {
   "cell_type": "code",
   "execution_count": 6,
   "metadata": {
    "collapsed": true
   },
   "outputs": [],
   "source": [
    "def save_to_file(y, file_name):\n",
    "    dfYtest['P_TARGET_FLAG'] = y\n",
    "    dfYtest.to_csv('results/{}'.format(file_name), index=False)"
   ]
  },
  {
   "cell_type": "markdown",
   "metadata": {},
   "source": [
    "# Train RF"
   ]
  },
  {
   "cell_type": "code",
   "execution_count": 7,
   "metadata": {
    "collapsed": true
   },
   "outputs": [],
   "source": [
    "from sklearn.ensemble import RandomForestClassifier as RFC\n",
    "from sklearn.metrics import roc_auc_score\n",
    "from sklearn.cross_validation import train_test_split"
   ]
  },
  {
   "cell_type": "code",
   "execution_count": 16,
   "metadata": {
    "collapsed": true
   },
   "outputs": [],
   "source": [
    "class RFCcoef():\n",
    "    def __init__(self, **kwargs):\n",
    "        self.rfc_kwargs = kwargs\n",
    "    \n",
    "    def compute_coef(self, X, y, Xtest, ytest):\n",
    "        self.features_count = X.shape[1]\n",
    "        self.coef_ = np.zeros(self.features_count)\n",
    "        for out_feature in tqdm_notebook(range(self.features_count), desc='out_feature'):\n",
    "            clf = RFC(**self.rfc_kwargs).fit(np.delete(X, out_feature, 1), y)\n",
    "            proba = clf.predict_proba(np.delete(Xtest, out_feature, 1))[:, 1]\n",
    "            self.coef_[out_feature] = roc_auc_score(ytest, proba)\n",
    "            del clf\n",
    "            gc.collect()\n",
    "        return self.coef_"
   ]
  },
  {
   "cell_type": "code",
   "execution_count": 10,
   "metadata": {
    "collapsed": true
   },
   "outputs": [],
   "source": [
    "x_subtrain, x_subtest, y_subtrain, y_subtest = train_test_split(x_train, y_train, \n",
    "                                                                test_size=0.15, random_state=42,\n",
    "                                                                stratify=y_train)"
   ]
  },
  {
   "cell_type": "code",
   "execution_count": 21,
   "metadata": {
    "collapsed": false
   },
   "outputs": [
    {
     "name": "stdout",
     "output_type": "stream",
     "text": [
      "\n",
      "CPU times: user 2h 42min 39s, sys: 1min 42s, total: 2h 44min 22s\n",
      "Wall time: 52min 13s\n"
     ]
    }
   ],
   "source": [
    "%%time\n",
    "\n",
    "kwargs = {'n_estimators': 300, 'class_weight': None, 'max_features': 'auto',\n",
    "          'criterion': 'entropy', 'n_jobs': -1}\n",
    "\n",
    "score = np.zeros(x_test.shape[1])\n",
    "out_feature = np.zeros(x_test.shape[1])\n",
    "\n",
    "clf = RFCcoef(**kwargs)\n",
    "X = x_subtrain\n",
    "Xtest = x_subtest\n",
    "\n",
    "for features_count in tqdm_notebook(range(x_test.shape[1] - 1, 0, -1), desc='features count'):\n",
    "    ranking = clf.compute_coef(X, y_subtrain, Xtest, y_subtest)\n",
    "    out = np.argmax(ranking)\n",
    "    score[features_count] = ranking[out]\n",
    "    out_feature[features_count] = out\n",
    "    X = np.delete(X, out, 1)\n",
    "    Xtest = np.delete(Xtest, out, 1)\n",
    "    gc.collect()"
   ]
  },
  {
   "cell_type": "code",
   "execution_count": 22,
   "metadata": {
    "collapsed": false
   },
   "outputs": [
    {
     "data": {
      "text/plain": [
       "[<matplotlib.lines.Line2D at 0x7fbbe731d518>]"
      ]
     },
     "execution_count": 22,
     "metadata": {},
     "output_type": "execute_result"
    },
    {
     "data": {
      "image/png": "[encoded data removed]",
      "text/plain": [
       "<matplotlib.figure.Figure at 0x7fbbe7451828>"
      ]
     },
     "metadata": {},
     "output_type": "display_data"
    }
   ],
   "source": [
    "plt.plot(score[10:])"
   ]
  },
  {
   "cell_type": "code",
   "execution_count": 24,
   "metadata": {
    "collapsed": false
   },
   "outputs": [
    {
     "data": {
      "text/plain": [
       "35"
      ]
     },
     "execution_count": 24,
     "metadata": {},
     "output_type": "execute_result"
    }
   ],
   "source": [
    "last_out = np.argmax(score)\n",
    "last_out"
   ]
  },
  {
   "cell_type": "code",
   "execution_count": 25,
   "metadata": {
    "collapsed": false
   },
   "outputs": [
    {
     "data": {
      "text/plain": [
       "0.82762419940551779"
      ]
     },
     "execution_count": 25,
     "metadata": {},
     "output_type": "execute_result"
    }
   ],
   "source": [
    "score[last_out]"
   ]
  },
  {
   "cell_type": "code",
   "execution_count": 26,
   "metadata": {
    "collapsed": false
   },
   "outputs": [
    {
     "data": {
      "text/plain": [
       "array([  0.,   0.,   0.,   2.,   0.,   4.,   4.,   6.,   8.,   0.,   6.,\n",
       "         7.,  12.,   6.,   1.,  13.,  15.,   7.,   8.,  16.,  15.,  19.,\n",
       "         2.,  18.,  12.,  17.,  14.,  10.,   1.,  24.,  18.,  25.,  22.,\n",
       "        15.,  34.,   9.,  30.,  13.,  32.,   5.,  34.,  17.,  19.,  34.,\n",
       "        35.,   7.,  33.,  14.,  46.])"
      ]
     },
     "execution_count": 26,
     "metadata": {},
     "output_type": "execute_result"
    }
   ],
   "source": [
    "out_feature"
   ]
  },
  {
   "cell_type": "code",
   "execution_count": 29,
   "metadata": {
    "collapsed": false
   },
   "outputs": [
    {
     "data": {
      "text/plain": [
       "14"
      ]
     },
     "execution_count": 29,
     "metadata": {},
     "output_type": "execute_result"
    }
   ],
   "source": [
    "out_feature.shape[0] - last_out"
   ]
  },
  {
   "cell_type": "code",
   "execution_count": 44,
   "metadata": {
    "collapsed": false
   },
   "outputs": [
    {
     "name": "stdout",
     "output_type": "stream",
     "text": [
      "\n",
      "CPU times: user 63.5 ms, sys: 0 ns, total: 63.5 ms\n",
      "Wall time: 61.2 ms\n"
     ]
    }
   ],
   "source": [
    "%%time\n",
    "\n",
    "X = x_subtrain\n",
    "Xtest = x_subtest\n",
    "columns = np.array(dfXtest.columns.tolist())\n",
    "\n",
    "for features_count in tqdm_notebook(range(x_test.shape[1] - 1, last_out - 1, -1), desc='features count'):\n",
    "    out = out_feature[features_count]\n",
    "    X = np.delete(X, out, 1)\n",
    "    Xtest = np.delete(Xtest, out, 1)\n",
    "    columns = np.delete(columns, out)"
   ]
  },
  {
   "cell_type": "code",
   "execution_count": 47,
   "metadata": {
    "collapsed": false
   },
   "outputs": [
    {
     "data": {
      "text/plain": [
       "{'age_nan',\n",
       " 'car_age',\n",
       " 'car_type_Sports Car',\n",
       " 'clm_freq',\n",
       " 'education_<High School',\n",
       " 'education_Bachelors',\n",
       " 'education_Masters',\n",
       " 'education_PhD',\n",
       " 'income_ano',\n",
       " 'income_nan',\n",
       " 'job_Other',\n",
       " 'job_z_Blue Collar',\n",
       " 'yoj',\n",
       " 'yoj_ano'}"
      ]
     },
     "execution_count": 47,
     "metadata": {},
     "output_type": "execute_result"
    }
   ],
   "source": [
    "set(dfXtest.columns.tolist()) - set(columns)"
   ]
  },
  {
   "cell_type": "code",
   "execution_count": 48,
   "metadata": {
    "collapsed": true
   },
   "outputs": [],
   "source": [
    "def get_score_list(X, y, clf, scorer):\n",
    "    predictions = list()\n",
    "    score = list()\n",
    "    for i, tree in enumerate(clf.estimators_):\n",
    "        proba = tree.predict_proba(X)[:, 1]\n",
    "        predictions.append(proba)\n",
    "        rf_prediction = np.mean(predictions, axis=0)\n",
    "        score.append(scorer(y, rf_prediction))\n",
    "    return score"
   ]
  },
  {
   "cell_type": "code",
   "execution_count": 51,
   "metadata": {
    "collapsed": false
   },
   "outputs": [
    {
     "name": "stdout",
     "output_type": "stream",
     "text": [
      "CPU times: user 25.8 s, sys: 233 ms, total: 26.1 s\n",
      "Wall time: 10.6 s\n"
     ]
    }
   ],
   "source": [
    "%%time\n",
    "\n",
    "kwargs = {'n_estimators': 1000, 'criterion': 'entropy', 'n_jobs': -1, 'random_state': 42}\n",
    "\n",
    "clf = RFC(**kwargs)\n",
    "clf.fit(X, y_subtrain)\n",
    "test_score = get_score_list(Xtest, y_subtest, clf, roc_auc_score)"
   ]
  },
  {
   "cell_type": "code",
   "execution_count": 52,
   "metadata": {
    "collapsed": false
   },
   "outputs": [
    {
     "data": {
      "text/plain": [
       "[<matplotlib.lines.Line2D at 0x7fbbe71a16a0>]"
      ]
     },
     "execution_count": 52,
     "metadata": {},
     "output_type": "execute_result"
    },
    {
     "data": {
      "image/png": "[encoded data removed]",
      "text/plain": [
       "<matplotlib.figure.Figure at 0x7fbbe7238630>"
      ]
     },
     "metadata": {},
     "output_type": "display_data"
    }
   ],
   "source": [
    "plt.plot(test_score[200:])"
   ]
  },
  {
   "cell_type": "code",
   "execution_count": 53,
   "metadata": {
    "collapsed": false
   },
   "outputs": [
    {
     "name": "stdout",
     "output_type": "stream",
     "text": [
      "\n",
      "CPU times: user 90.4 ms, sys: 4.03 ms, total: 94.4 ms\n",
      "Wall time: 91.9 ms\n"
     ]
    }
   ],
   "source": [
    "%%time\n",
    "\n",
    "X = x_train\n",
    "Xtest = x_test\n",
    "\n",
    "for features_count in tqdm_notebook(range(x_test.shape[1] - 1, last_out - 1, -1), desc='features count'):\n",
    "    out = out_feature[features_count]\n",
    "    X = np.delete(X, out, 1)\n",
    "    Xtest = np.delete(Xtest, out, 1)\n"
   ]
  },
  {
   "cell_type": "code",
   "execution_count": 55,
   "metadata": {
    "collapsed": false
   },
   "outputs": [
    {
     "name": "stdout",
     "output_type": "stream",
     "text": [
      "CPU times: user 1min 24s, sys: 998 ms, total: 1min 25s\n",
      "Wall time: 28.4 s\n"
     ]
    }
   ],
   "source": [
    "%%time\n",
    "\n",
    "kwargs = {'n_estimators': 3000, 'criterion': 'entropy', 'n_jobs': -1, 'random_state': 42}\n",
    "\n",
    "clf = RFC(**kwargs)\n",
    "clf.fit(X, y_train)\n",
    "\n",
    "proba = clf.predict_proba(Xtest)[:, 1]\n",
    "save_to_file(proba, 'more_3000_35_best.csv')"
   ]
  },
  {
   "cell_type": "code",
   "execution_count": 58,
   "metadata": {
    "collapsed": false
   },
   "outputs": [
    {
     "name": "stdout",
     "output_type": "stream",
     "text": [
      "\n",
      "CPU times: user 49min 7s, sys: 24.6 s, total: 49min 32s\n",
      "Wall time: 23min 5s\n"
     ]
    }
   ],
   "source": [
    "%%time\n",
    "\n",
    "kwargs = {'n_estimators': 5000, 'criterion': 'entropy', 'n_jobs': -1}\n",
    "\n",
    "proba = np.zeros(Xtest.shape[0])\n",
    "\n",
    "for random_state in tqdm_notebook(range(1, 21), desc='random_state'):\n",
    "    rfc = RFC(random_state=random_state, **kwargs)\n",
    "    rfc.fit(X, y_train)\n",
    "    proba += rfc.predict_proba(Xtest)[:, 1]\n",
    "    del rfc\n",
    "    gc.collect()"
   ]
  },
  {
   "cell_type": "code",
   "execution_count": 59,
   "metadata": {
    "collapsed": true
   },
   "outputs": [],
   "source": [
    "proba /= 20"
   ]
  },
  {
   "cell_type": "code",
   "execution_count": 60,
   "metadata": {
    "collapsed": true
   },
   "outputs": [],
   "source": [
    "save_to_file(proba, 'more_35_best_100_000_cycle.csv')"
   ]
  },
  {
   "cell_type": "code",
   "execution_count": 61,
   "metadata": {
    "collapsed": false
   },
   "outputs": [
    {
     "data": {
      "text/plain": [
       "9"
      ]
     },
     "execution_count": 61,
     "metadata": {},
     "output_type": "execute_result"
    }
   ],
   "source": [
    "gc.collect()"
   ]
  },
  {
   "cell_type": "code",
   "execution_count": null,
   "metadata": {
    "collapsed": true
   },
   "outputs": [],
   "source": []
  },
  {
   "cell_type": "code",
   "execution_count": null,
   "metadata": {
    "collapsed": true
   },
   "outputs": [],
   "source": []
  },
  {
   "cell_type": "code",
   "execution_count": null,
   "metadata": {
    "collapsed": true
   },
   "outputs": [],
   "source": []
  },
  {
   "cell_type": "code",
   "execution_count": null,
   "metadata": {
    "collapsed": true
   },
   "outputs": [],
   "source": []
  },
  {
   "cell_type": "code",
   "execution_count": null,
   "metadata": {
    "collapsed": true
   },
   "outputs": [],
   "source": []
  },
  {
   "cell_type": "code",
   "execution_count": null,
   "metadata": {
    "collapsed": true
   },
   "outputs": [],
   "source": []
  },
  {
   "cell_type": "code",
   "execution_count": null,
   "metadata": {
    "collapsed": true
   },
   "outputs": [],
   "source": []
  },
  {
   "cell_type": "code",
   "execution_count": null,
   "metadata": {
    "collapsed": true
   },
   "outputs": [],
   "source": []
  }
 ],
 "metadata": {
  "kernelspec": {
   "display_name": "Python 3",
   "language": "python",
   "name": "python3"
  },
  "language_info": {
   "codemirror_mode": {
    "name": "ipython",
    "version": 3
   },
   "file_extension": ".py",
   "mimetype": "text/x-python",
   "name": "python",
   "nbconvert_exporter": "python",
   "pygments_lexer": "ipython3",
   "version": "3.4.4"
  }
 },
 "nbformat": 4,
 "nbformat_minor": 0
}
