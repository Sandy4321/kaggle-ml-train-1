{
 "cells": [
  {
   "cell_type": "code",
   "execution_count": 1,
   "metadata": {
    "collapsed": true
   },
   "outputs": [],
   "source": [
    "%matplotlib inline\n",
    "import matplotlib.pyplot as plt\n",
    "import numpy as np\n",
    "import pandas as pd\n",
    "import seaborn as sns\n",
    "from tqdm import tnrange, tqdm_notebook\n",
    "import gc"
   ]
  },
  {
   "cell_type": "code",
   "execution_count": 2,
   "metadata": {
    "collapsed": true
   },
   "outputs": [],
   "source": [
    "sns.set_context('talk')"
   ]
  },
  {
   "cell_type": "markdown",
   "metadata": {},
   "source": [
    "# Read the data"
   ]
  },
  {
   "cell_type": "code",
   "execution_count": 41,
   "metadata": {
    "collapsed": false
   },
   "outputs": [],
   "source": [
    "dfXtrain = pd.read_csv('preprocessed_csv/train.csv', index_col='id')\n",
    "dfXtest = pd.read_csv('preprocessed_csv/test.csv', index_col='id')\n",
    "dfYtrain = pd.read_csv('preprocessed_csv/y_train.csv', header=None, names=['id', 'proba'], index_col='id')"
   ]
  },
  {
   "cell_type": "code",
   "execution_count": 62,
   "metadata": {
    "collapsed": true
   },
   "outputs": [],
   "source": [
    "anomaly = {'car_age': 1, 'income': 0, 'home_val': 0, 'yoj': 0}\n",
    "\n",
    "def return_index(df, col, mask):\n",
    "    if mask == 0:\n",
    "        return (df[col] == anomaly[col])\n",
    "    else:\n",
    "        return (df[col] != anomaly[col])     "
   ]
  },
  {
   "cell_type": "code",
   "execution_count": 63,
   "metadata": {
    "collapsed": true
   },
   "outputs": [],
   "source": [
    "def compute_indices(car_age, income, home_val, yoj, df):\n",
    "    return (return_index(df, 'income', income) & return_index(df, 'home_val', home_val)) & \\\n",
    "           (return_index(df, 'yoj', yoj) & return_index(df, 'car_age', car_age)) "
   ]
  },
  {
   "cell_type": "code",
   "execution_count": 64,
   "metadata": {
    "collapsed": false
   },
   "outputs": [],
   "source": [
    "COMP_NUM = 16\n",
    "\n",
    "x_train = [0 for i in range(COMP_NUM)]\n",
    "x_test = [0 for i in range(COMP_NUM)]\n",
    "y_train = [0 for i in range(COMP_NUM)]\n",
    "dfYtest = [0 for i in range(COMP_NUM)]\n",
    "\n",
    "for car_age in range(2):\n",
    "    for income in range(2):\n",
    "        for home_val in range(2):\n",
    "            for yoj in range(2):\n",
    "                mask = car_age * 8 + income * 4 + home_val * 2 + yoj\n",
    "                train_indices = compute_indices(car_age, income, home_val, yoj, dfXtrain)\n",
    "                test_indices = compute_indices(car_age, income, home_val, yoj, dfXtest)\n",
    "                x_train[mask] = np.array(dfXtrain[train_indices])\n",
    "                y_train[mask] = np.array(dfYtrain[train_indices]['proba'])\n",
    "                x_test[mask] = np.array(dfXtest[test_indices])\n",
    "                dfYtest[mask] = pd.DataFrame({'INDEX': dfXtest.index})"
   ]
  },
  {
   "cell_type": "code",
   "execution_count": 73,
   "metadata": {
    "collapsed": false
   },
   "outputs": [
    {
     "name": "stdout",
     "output_type": "stream",
     "text": [
      "162 0.44\n",
      "38 0.42\n",
      "100 0.38\n",
      "73 0.27\n",
      "33 0.33\n",
      "633 0.38\n",
      "72 0.28\n",
      "1333 0.26\n",
      "244 0.45\n",
      "78 0.26\n",
      "180 0.29\n",
      "185 0.17\n",
      "86 0.34\n",
      "1484 0.31\n",
      "202 0.18\n",
      "3258 0.2\n"
     ]
    }
   ],
   "source": [
    "for mask in range(COMP_NUM):\n",
    "    print(x_train[mask].shape[0], '{:.2}'.format(y_train[mask].sum() / x_train[mask].shape[0]))"
   ]
  },
  {
   "cell_type": "markdown",
   "metadata": {},
   "source": [
    "# Save routines"
   ]
  },
  {
   "cell_type": "code",
   "execution_count": 6,
   "metadata": {
    "collapsed": true
   },
   "outputs": [],
   "source": [
    "def save_to_file(y, file_name):\n",
    "    dfYtest['P_TARGET_FLAG'] = y\n",
    "    dfYtest.to_csv('results/{}'.format(file_name), index=False)"
   ]
  },
  {
   "cell_type": "markdown",
   "metadata": {},
   "source": [
    "# Train RF"
   ]
  },
  {
   "cell_type": "code",
   "execution_count": 26,
   "metadata": {
    "collapsed": true
   },
   "outputs": [],
   "source": [
    "from sklearn.ensemble import RandomForestClassifier as RFC\n",
    "from sklearn.metrics import roc_auc_score\n",
    "from sklearn.cross_validation import train_test_split"
   ]
  },
  {
   "cell_type": "code",
   "execution_count": 8,
   "metadata": {
    "collapsed": true
   },
   "outputs": [],
   "source": [
    "def get_score_list(X, y, clf, scorer):\n",
    "    predictions = list()\n",
    "    score = list()\n",
    "    for i, tree in enumerate(clf.estimators_):\n",
    "        proba = tree.predict_proba(X)[:, 1]\n",
    "        predictions.append(proba)\n",
    "        rf_prediction = np.mean(predictions, axis=0)\n",
    "        score.append(scorer(y, rf_prediction))\n",
    "    return score"
   ]
  },
  {
   "cell_type": "code",
   "execution_count": 9,
   "metadata": {
    "collapsed": true
   },
   "outputs": [],
   "source": [
    "def plot_score_graph(clf, X_train, X_test, y_train, y_test, scorer, prefix, print_train=True):\n",
    "    clf.fit(X_train, y_train)\n",
    "    if print_train:\n",
    "        train_score = get_score_list(X_train, y_train, clf, scorer)\n",
    "    test_score = get_score_list(X_test, y_test, clf, scorer)\n",
    "    if print_train:\n",
    "        plt.plot(train_score, label=prefix + ' train set error')\n",
    "    plt.plot(test_score, label=prefix + ' test set error')\n",
    "    plt.xlabel('n_estimators')\n",
    "    plt.ylabel('score')\n",
    "    plt.legend()\n",
    "    return test_score, clf"
   ]
  },
  {
   "cell_type": "code",
   "execution_count": 10,
   "metadata": {
    "collapsed": true
   },
   "outputs": [],
   "source": [
    "def combine_rfs(rf_a, rf_b):\n",
    "    rf_a.estimators_ += rf_b.estimators_\n",
    "    rf_a.n_estimators = len(rf_a.estimators_)\n",
    "    return rf_a"
   ]
  },
  {
   "cell_type": "code",
   "execution_count": 11,
   "metadata": {
    "collapsed": true
   },
   "outputs": [],
   "source": [
    "x_subtrain, x_subtest, y_subtrain, y_subtest = train_test_split(x_train, y_train, \n",
    "                                                                test_size=0.15, random_state=42,\n",
    "                                                                stratify=y_train)"
   ]
  },
  {
   "cell_type": "code",
   "execution_count": 30,
   "metadata": {
    "collapsed": false
   },
   "outputs": [
    {
     "name": "stdout",
     "output_type": "stream",
     "text": [
      "CPU times: user 28.7 s, sys: 51.6 ms, total: 28.7 s\n",
      "Wall time: 11.5 s\n"
     ]
    }
   ],
   "source": [
    "%%time\n",
    "\n",
    "kwargs = {'n_estimators': 1000, 'criterion': 'entropy', 'n_jobs': -1, 'random_state': 56}\n",
    "\n",
    "rfc = RFC(**kwargs)\n",
    "rfc.fit(x_subtrain, y_subtrain)\n",
    "rfc_test_score = get_score_list(x_subtest, y_subtest, rfc, roc_auc_score)"
   ]
  },
  {
   "cell_type": "code",
   "execution_count": 32,
   "metadata": {
    "collapsed": false,
    "scrolled": false
   },
   "outputs": [
    {
     "data": {
      "text/plain": [
       "[<matplotlib.lines.Line2D at 0x7f1eab0065f8>]"
      ]
     },
     "execution_count": 32,
     "metadata": {},
     "output_type": "execute_result"
    },
    {
     "data": {
      "image/png": "[encoded data removed]",
      "text/plain": [
       "<matplotlib.figure.Figure at 0x7f1eab11e198>"
      ]
     },
     "metadata": {},
     "output_type": "display_data"
    }
   ],
   "source": [
    "plt.plot(rfc_test_score[200:])"
   ]
  },
  {
   "cell_type": "code",
   "execution_count": null,
   "metadata": {
    "collapsed": true
   },
   "outputs": [],
   "source": []
  },
  {
   "cell_type": "code",
   "execution_count": null,
   "metadata": {
    "collapsed": true
   },
   "outputs": [],
   "source": []
  },
  {
   "cell_type": "code",
   "execution_count": null,
   "metadata": {
    "collapsed": true
   },
   "outputs": [],
   "source": []
  },
  {
   "cell_type": "code",
   "execution_count": null,
   "metadata": {
    "collapsed": true
   },
   "outputs": [],
   "source": []
  },
  {
   "cell_type": "code",
   "execution_count": null,
   "metadata": {
    "collapsed": true
   },
   "outputs": [],
   "source": []
  },
  {
   "cell_type": "code",
   "execution_count": null,
   "metadata": {
    "collapsed": true
   },
   "outputs": [],
   "source": []
  },
  {
   "cell_type": "code",
   "execution_count": null,
   "metadata": {
    "collapsed": true
   },
   "outputs": [],
   "source": []
  },
  {
   "cell_type": "code",
   "execution_count": null,
   "metadata": {
    "collapsed": true
   },
   "outputs": [],
   "source": []
  },
  {
   "cell_type": "code",
   "execution_count": null,
   "metadata": {
    "collapsed": true
   },
   "outputs": [],
   "source": []
  }
 ],
 "metadata": {
  "kernelspec": {
   "display_name": "Python 3",
   "language": "python",
   "name": "python3"
  },
  "language_info": {
   "codemirror_mode": {
    "name": "ipython",
    "version": 3
   },
   "file_extension": ".py",
   "mimetype": "text/x-python",
   "name": "python",
   "nbconvert_exporter": "python",
   "pygments_lexer": "ipython3",
   "version": "3.4.4"
  }
 },
 "nbformat": 4,
 "nbformat_minor": 0
}
