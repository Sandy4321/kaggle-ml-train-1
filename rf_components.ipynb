{
 "cells": [
  {
   "cell_type": "code",
   "execution_count": 1,
   "metadata": {
    "collapsed": true
   },
   "outputs": [],
   "source": [
    "%matplotlib inline\n",
    "import matplotlib.pyplot as plt\n",
    "import numpy as np\n",
    "import pandas as pd\n",
    "import seaborn as sns\n",
    "from tqdm import tnrange, tqdm_notebook\n",
    "import gc"
   ]
  },
  {
   "cell_type": "code",
   "execution_count": 2,
   "metadata": {
    "collapsed": true
   },
   "outputs": [],
   "source": [
    "sns.set_context('talk')"
   ]
  },
  {
   "cell_type": "markdown",
   "metadata": {},
   "source": [
    "# Read the data"
   ]
  },
  {
   "cell_type": "code",
   "execution_count": 41,
   "metadata": {
    "collapsed": false
   },
   "outputs": [],
   "source": [
    "dfXtrain = pd.read_csv('preprocessed_csv/train.csv', index_col='id')\n",
    "dfXtest = pd.read_csv('preprocessed_csv/test.csv', index_col='id')\n",
    "dfYtrain = pd.read_csv('preprocessed_csv/y_train.csv', header=None, names=['id', 'proba'], index_col='id')"
   ]
  },
  {
   "cell_type": "markdown",
   "metadata": {},
   "source": [
    "# Saving routines"
   ]
  },
  {
   "cell_type": "code",
   "execution_count": 168,
   "metadata": {
    "collapsed": false
   },
   "outputs": [],
   "source": [
    "dfYtest = pd.DataFrame({'INDEX': dfXtest.index, 'P_TARGET_FLAG': 0})"
   ]
  },
  {
   "cell_type": "code",
   "execution_count": 169,
   "metadata": {
    "collapsed": true
   },
   "outputs": [],
   "source": [
    "def save_to_file(y, file_name):\n",
    "    dfYtest['P_TARGET_FLAG'] = y\n",
    "    dfYtest.to_csv('results/{}'.format(file_name), index=False)"
   ]
  },
  {
   "cell_type": "markdown",
   "metadata": {},
   "source": [
    "# Ideas"
   ]
  },
  {
   "cell_type": "code",
   "execution_count": 62,
   "metadata": {
    "collapsed": true
   },
   "outputs": [],
   "source": [
    "anomaly = {'car_age': 1, 'income': 0, 'home_val': 0, 'yoj': 0}\n",
    "\n",
    "def return_index(df, col, mask):\n",
    "    if mask == 0:\n",
    "        return (df[col] == anomaly[col])\n",
    "    else:\n",
    "        return (df[col] != anomaly[col])     "
   ]
  },
  {
   "cell_type": "code",
   "execution_count": 63,
   "metadata": {
    "collapsed": true
   },
   "outputs": [],
   "source": [
    "def compute_indices(car_age, income, home_val, yoj, df):\n",
    "    return (return_index(df, 'income', income) & return_index(df, 'home_val', home_val)) & \\\n",
    "           (return_index(df, 'yoj', yoj) & return_index(df, 'car_age', car_age)) "
   ]
  },
  {
   "cell_type": "code",
   "execution_count": 82,
   "metadata": {
    "collapsed": false
   },
   "outputs": [],
   "source": [
    "COMP_NUM = 16\n",
    "\n",
    "x_train = [0 for i in range(COMP_NUM)]\n",
    "x_test = [0 for i in range(COMP_NUM)]\n",
    "y_train = [0 for i in range(COMP_NUM)]\n",
    "dfYtest = [0 for i in range(COMP_NUM)]\n",
    "\n",
    "for car_age in range(2):\n",
    "    for income in range(2):\n",
    "        for home_val in range(2):\n",
    "            for yoj in range(2):\n",
    "                mask = car_age * 8 + income * 4 + home_val * 2 + yoj\n",
    "                train_indices = compute_indices(car_age, income, home_val, yoj, dfXtrain)\n",
    "                test_indices = compute_indices(car_age, income, home_val, yoj, dfXtest)\n",
    "                x_train[mask] = np.array(dfXtrain[train_indices])\n",
    "                y_train[mask] = np.array(dfYtrain[train_indices]['proba'])\n",
    "                x_test[mask] = np.array(dfXtest[test_indices])\n",
    "                dfYtest[mask] = pd.DataFrame({'INDEX': dfXtest.index})"
   ]
  },
  {
   "cell_type": "code",
   "execution_count": 83,
   "metadata": {
    "collapsed": false
   },
   "outputs": [
    {
     "name": "stdout",
     "output_type": "stream",
     "text": [
      "162 0.44\n",
      "38 0.42\n",
      "100 0.38\n",
      "73 0.27\n",
      "33 0.33\n",
      "633 0.38\n",
      "72 0.28\n",
      "1333 0.26\n",
      "244 0.45\n",
      "78 0.26\n",
      "180 0.29\n",
      "185 0.17\n",
      "86 0.34\n",
      "1484 0.31\n",
      "202 0.18\n",
      "3258 0.2\n"
     ]
    }
   ],
   "source": [
    "for mask in range(COMP_NUM):\n",
    "    print(x_train[mask].shape[0], '{:.2}'.format(y_train[mask].sum() / x_train[mask].shape[0]))"
   ]
  },
  {
   "cell_type": "markdown",
   "metadata": {},
   "source": [
    "Некоторые выборки слишком малого размера. Обучать лес на 33 объектах с 40 признаками кажется не самой лучшей идеей"
   ]
  },
  {
   "cell_type": "markdown",
   "metadata": {},
   "source": [
    "**Идеи**:\n",
    "* попробовать деление на 16 непересекающихся частей\n",
    "* выбрать из четырёх признаков меньшее количество, чтобы объём получающихся микровыборок был больше\n",
    "* делить на восемь пересекающихся частей (по две для каждого признака). Восемь классификаторов, ответ -- среднее"
   ]
  },
  {
   "cell_type": "markdown",
   "metadata": {},
   "source": [
    "Доля положительного класса среди обучающей выборки"
   ]
  },
  {
   "cell_type": "code",
   "execution_count": 80,
   "metadata": {
    "collapsed": false
   },
   "outputs": [
    {
     "data": {
      "text/plain": [
       "0.2638157088592084"
      ]
     },
     "execution_count": 80,
     "metadata": {},
     "output_type": "execute_result"
    }
   ],
   "source": [
    "dfYtrain.proba.sum()/dfXtrain.shape[0]"
   ]
  },
  {
   "cell_type": "markdown",
   "metadata": {},
   "source": [
    "# Train RF"
   ]
  },
  {
   "cell_type": "code",
   "execution_count": 26,
   "metadata": {
    "collapsed": true
   },
   "outputs": [],
   "source": [
    "from sklearn.ensemble import RandomForestClassifier as RFC\n",
    "from sklearn.metrics import roc_auc_score\n",
    "from sklearn.cross_validation import train_test_split"
   ]
  },
  {
   "cell_type": "markdown",
   "metadata": {},
   "source": [
    "Классификатор, который позволяет создавать разные леса на разных подвыборках"
   ]
  },
  {
   "cell_type": "code",
   "execution_count": 114,
   "metadata": {
    "collapsed": true
   },
   "outputs": [],
   "source": [
    "import itertools\n",
    "\n",
    "class AnomalyClassifier():\n",
    "    def __init__(self, Classifier, anomaly, intersected=False, clf_kwargs=None):\n",
    "        self.Classifier = Classifier\n",
    "        self.anomaly = anomaly\n",
    "        self.intersected = intersected\n",
    "        \n",
    "        if intersected:\n",
    "            self.subset_count = 2 * len(anomaly)\n",
    "        else:\n",
    "            self.subset_count = 2 ** len(anomaly)\n",
    "            \n",
    "        if type(clf_kwargs) is list:\n",
    "            self.clf_kwargs = clf_kwargs\n",
    "        else:\n",
    "            self.clf_kwargs = [clf_kwargs for mask in range(self.subset_count)]\n",
    " \n",
    "\n",
    "    def return_index(self, df, col, mask):\n",
    "        if mask == 0:\n",
    "            return (df[col] == self.anomaly[col])\n",
    "        else:\n",
    "            return (df[col] != self.anomaly[col])\n",
    "\n",
    "        \n",
    "    def compute_indices(self, df, col_mask_iterator):\n",
    "        result = True\n",
    "        for col, mask in col_mask_iterator:\n",
    "            result = result & self.return_index(df, col, mask)\n",
    "        return result\n",
    "        \n",
    "    \n",
    "    def indices_generator(self, df):\n",
    "        if self.intersected:\n",
    "            for col in sorted(self.anomaly):\n",
    "                for mask in range(2):\n",
    "                    yield self.return_index(df, col, mask)\n",
    "        else:\n",
    "            for mask in itertools.product(range(2), repeat=len(self.anomaly)):\n",
    "                yield self.compute_indices(df, zip(sorted(self.anomaly), mask))\n",
    "    \n",
    "    \n",
    "    def fit(self, dfXtrain, dfYtrain):\n",
    "        self.clfs = [self.Classifier(**self.clf_kwargs[mask]).fit(\n",
    "                            np.array(dfXtrain[indices]), \n",
    "                            np.array(dfYtrain[indices].proba))\n",
    "                     for mask, indices in enumerate(self.indices_generator(dfXtrain))]\n",
    "        return self\n",
    "    \n",
    "    \n",
    "    def predict_proba(self, dfXtest):\n",
    "        dfYtest = pd.DataFrame({'proba': 0}, index=dfXtest.index)\n",
    "        for mask, indices in enumerate(self.indices_generator(dfXtest)):\n",
    "            dfYtest.loc[indices, 'proba'] += self.clfs[mask].predict_proba(np.array(dfXtest[indices]))[:, 1]\n",
    "        if self.intersected:\n",
    "            dfYtest.proba /= self.subset_count / 2\n",
    "        return dfYtest\n",
    "    "
   ]
  },
  {
   "cell_type": "code",
   "execution_count": 126,
   "metadata": {
    "collapsed": true
   },
   "outputs": [],
   "source": [
    "x_subtrain, x_subtest, y_subtrain, y_subtest = train_test_split(dfXtrain, dfYtrain, \n",
    "                                                                test_size=0.15, random_state=42,\n",
    "                                                                stratify=dfYtrain.proba)"
   ]
  },
  {
   "cell_type": "markdown",
   "metadata": {},
   "source": [
    "16 частей"
   ]
  },
  {
   "cell_type": "code",
   "execution_count": 127,
   "metadata": {
    "collapsed": false
   },
   "outputs": [
    {
     "name": "stdout",
     "output_type": "stream",
     "text": [
      "0.802415341209\n",
      "CPU times: user 1min 5s, sys: 3.54 s, total: 1min 9s\n",
      "Wall time: 48.3 s\n"
     ]
    }
   ],
   "source": [
    "%%time\n",
    "\n",
    "kwargs = {'n_estimators': 1000, 'criterion': 'entropy', 'n_jobs': -1, 'random_state': 100}\n",
    "\n",
    "clf = AnomalyClassifier(RFC, anomaly, intersected=False, clf_kwargs=kwargs)\n",
    "clf.fit(x_subtrain, y_subtrain)\n",
    "score = roc_auc_score(y_subtest.proba, clf.predict_proba(x_subtest))\n",
    "print(score)"
   ]
  },
  {
   "cell_type": "markdown",
   "metadata": {},
   "source": [
    "8 с пересечениями"
   ]
  },
  {
   "cell_type": "code",
   "execution_count": 128,
   "metadata": {
    "collapsed": false
   },
   "outputs": [
    {
     "name": "stdout",
     "output_type": "stream",
     "text": [
      "0.818209276942\n",
      "CPU times: user 1min 46s, sys: 1.41 s, total: 1min 47s\n",
      "Wall time: 39.4 s\n"
     ]
    }
   ],
   "source": [
    "%%time\n",
    "\n",
    "kwargs = {'n_estimators': 1000, 'criterion': 'entropy', 'n_jobs': -1, 'random_state': 100}\n",
    "\n",
    "clf = AnomalyClassifier(RFC, anomaly, intersected=True, clf_kwargs=kwargs)\n",
    "clf.fit(x_subtrain, y_subtrain)\n",
    "score = roc_auc_score(y_subtest.proba, clf.predict_proba(x_subtest))\n",
    "print(score)"
   ]
  },
  {
   "cell_type": "markdown",
   "metadata": {},
   "source": [
    "Поперебираем подможества признаков"
   ]
  },
  {
   "cell_type": "code",
   "execution_count": 130,
   "metadata": {
    "collapsed": true
   },
   "outputs": [],
   "source": [
    "anomaly = {'car_age': 1, 'income': 0, 'home_val': 0, 'yoj': 0}"
   ]
  },
  {
   "cell_type": "code",
   "execution_count": 151,
   "metadata": {
    "collapsed": true
   },
   "outputs": [],
   "source": [
    "def subset_generator(set_dict):\n",
    "    for mask in itertools.product(range(2), repeat=len(anomaly)):\n",
    "        result = {}\n",
    "        for index, key in enumerate(sorted(set_dict)):\n",
    "            if mask[index]:\n",
    "                result[key] = set_dict[key]\n",
    "        if result:\n",
    "            yield result"
   ]
  },
  {
   "cell_type": "code",
   "execution_count": 155,
   "metadata": {
    "collapsed": false
   },
   "outputs": [
    {
     "name": "stdout",
     "output_type": "stream",
     "text": [
      "0.812693498452\n",
      "0.812693498452\n",
      "0.815355282036\n",
      "0.815355282036\n",
      "0.815068681224\n",
      "0.810445312446\n",
      "0.816784853748\n",
      "0.816784853748\n",
      "0.817061157524\n",
      "0.809508282249\n",
      "0.818171521147\n",
      "0.815887295518\n",
      "0.817385514131\n",
      "0.81343316881\n",
      "0.813769538624\n",
      "0.813769538624\n",
      "0.816223665333\n",
      "0.806589072786\n",
      "0.817622345939\n",
      "0.811574553967\n",
      "0.817093764802\n",
      "0.806338511598\n",
      "0.818322544329\n",
      "0.812070527826\n",
      "0.817630926802\n",
      "0.804493626135\n",
      "0.818899178297\n",
      "0.807409403252\n",
      "0.818209276942\n",
      "0.802415341209\n",
      "CPU times: user 23min 19s, sys: 27.9 s, total: 23min 47s\n",
      "Wall time: 9min 49s\n"
     ]
    }
   ],
   "source": [
    "%%time\n",
    "\n",
    "kwargs = {'n_estimators': 1000, 'criterion': 'entropy', 'n_jobs': -1, 'random_state': 100}\n",
    "\n",
    "score = np.zeros((2 ** len(anomaly) - 1, 2))\n",
    "\n",
    "for first, subset in enumerate(subset_generator(anomaly)):\n",
    "    for second, intersected in enumerate((True, False)):\n",
    "        clf = AnomalyClassifier(RFC, subset, intersected=intersected, clf_kwargs=kwargs)\n",
    "        clf.fit(x_subtrain, y_subtrain)\n",
    "        score[first, second] = roc_auc_score(y_subtest.proba, clf.predict_proba(x_subtest))\n",
    "        print(score[first, second])\n",
    "        del clf\n",
    "        gc.collect()"
   ]
  },
  {
   "cell_type": "code",
   "execution_count": 166,
   "metadata": {
    "collapsed": false
   },
   "outputs": [
    {
     "data": {
      "text/plain": [
       "2485"
      ]
     },
     "execution_count": 166,
     "metadata": {},
     "output_type": "execute_result"
    }
   ],
   "source": [
    "gc.collect()"
   ]
  },
  {
   "cell_type": "code",
   "execution_count": 161,
   "metadata": {
    "collapsed": false
   },
   "outputs": [
    {
     "data": {
      "text/plain": [
       "(13, 0)"
      ]
     },
     "execution_count": 161,
     "metadata": {},
     "output_type": "execute_result"
    }
   ],
   "source": [
    "np.unravel_index(np.argmax(score), score.shape)"
   ]
  },
  {
   "cell_type": "code",
   "execution_count": 163,
   "metadata": {
    "collapsed": false
   },
   "outputs": [
    {
     "data": {
      "text/plain": [
       "{'car_age': 1, 'home_val': 0, 'income': 0}"
      ]
     },
     "execution_count": 163,
     "metadata": {},
     "output_type": "execute_result"
    }
   ],
   "source": [
    "list(subset_generator(anomaly))[13]"
   ]
  },
  {
   "cell_type": "code",
   "execution_count": 164,
   "metadata": {
    "collapsed": true
   },
   "outputs": [],
   "source": [
    "subset = _"
   ]
  },
  {
   "cell_type": "code",
   "execution_count": 167,
   "metadata": {
    "collapsed": false
   },
   "outputs": [
    {
     "data": {
      "text/plain": [
       "{'car_age': 1, 'home_val': 0, 'income': 0}"
      ]
     },
     "execution_count": 167,
     "metadata": {},
     "output_type": "execute_result"
    }
   ],
   "source": [
    "subset"
   ]
  },
  {
   "cell_type": "code",
   "execution_count": 170,
   "metadata": {
    "collapsed": false
   },
   "outputs": [
    {
     "name": "stdout",
     "output_type": "stream",
     "text": [
      "CPU times: user 4min 31s, sys: 4.1 s, total: 4min 35s\n",
      "Wall time: 4min 38s\n"
     ]
    }
   ],
   "source": [
    "%%time\n",
    "\n",
    "kwargs = {'n_estimators': 3000, 'criterion': 'entropy', 'n_jobs': -1, 'random_state': 100}\n",
    "\n",
    "clf = AnomalyClassifier(RFC, subset, intersected=True, clf_kwargs=kwargs)\n",
    "clf.fit(dfXtrain, dfYtrain)\n",
    "y_test = clf.predict_proba(dfXtest)\n",
    "save_to_file(y_test.proba, 'subset_3_3000.csv')"
   ]
  },
  {
   "cell_type": "code",
   "execution_count": 171,
   "metadata": {
    "collapsed": false
   },
   "outputs": [
    {
     "data": {
      "text/html": [
       "<div>\n",
       "<table border=\"1\" class=\"dataframe\">\n",
       "  <thead>\n",
       "    <tr style=\"text-align: right;\">\n",
       "      <th></th>\n",
       "      <th>proba</th>\n",
       "    </tr>\n",
       "    <tr>\n",
       "      <th>id</th>\n",
       "      <th></th>\n",
       "    </tr>\n",
       "  </thead>\n",
       "  <tbody>\n",
       "    <tr>\n",
       "      <th>3</th>\n",
       "      <td>0.178111</td>\n",
       "    </tr>\n",
       "    <tr>\n",
       "      <th>9</th>\n",
       "      <td>0.397778</td>\n",
       "    </tr>\n",
       "    <tr>\n",
       "      <th>10</th>\n",
       "      <td>0.087889</td>\n",
       "    </tr>\n",
       "    <tr>\n",
       "      <th>18</th>\n",
       "      <td>0.181222</td>\n",
       "    </tr>\n",
       "    <tr>\n",
       "      <th>21</th>\n",
       "      <td>0.229778</td>\n",
       "    </tr>\n",
       "  </tbody>\n",
       "</table>\n",
       "</div>"
      ],
      "text/plain": [
       "       proba\n",
       "id          \n",
       "3   0.178111\n",
       "9   0.397778\n",
       "10  0.087889\n",
       "18  0.181222\n",
       "21  0.229778"
      ]
     },
     "execution_count": 171,
     "metadata": {},
     "output_type": "execute_result"
    }
   ],
   "source": [
    "y_test.head()"
   ]
  },
  {
   "cell_type": "code",
   "execution_count": 173,
   "metadata": {
    "collapsed": false
   },
   "outputs": [],
   "source": [
    "save_to_file(np.array(y_test.proba), 'subset_3_3000.csv')"
   ]
  },
  {
   "cell_type": "code",
   "execution_count": 175,
   "metadata": {
    "collapsed": false
   },
   "outputs": [
    {
     "name": "stdout",
     "output_type": "stream",
     "text": [
      "CPU times: user 5min 59s, sys: 10.2 s, total: 6min 9s\n",
      "Wall time: 15min 59s\n"
     ]
    }
   ],
   "source": [
    "%%time\n",
    "\n",
    "kwargs = {'n_estimators': 3000, 'criterion': 'entropy', 'n_jobs': -1, 'random_state': 100}\n",
    "\n",
    "clf = AnomalyClassifier(RFC, anomaly, intersected=True, clf_kwargs=kwargs)\n",
    "clf.fit(dfXtrain, dfYtrain)\n",
    "y_test = clf.predict_proba(dfXtest)\n",
    "save_to_file(np.array(y_test.proba), 'subset_4_3000.csv')"
   ]
  },
  {
   "cell_type": "code",
   "execution_count": 176,
   "metadata": {
    "collapsed": false
   },
   "outputs": [
    {
     "data": {
      "text/plain": [
       "31"
      ]
     },
     "execution_count": 176,
     "metadata": {},
     "output_type": "execute_result"
    }
   ],
   "source": [
    "del clf\n",
    "gc.collect()"
   ]
  },
  {
   "cell_type": "code",
   "execution_count": null,
   "metadata": {
    "collapsed": true
   },
   "outputs": [],
   "source": []
  }
 ],
 "metadata": {
  "kernelspec": {
   "display_name": "Python 3",
   "language": "python",
   "name": "python3"
  },
  "language_info": {
   "codemirror_mode": {
    "name": "ipython",
    "version": 3
   },
   "file_extension": ".py",
   "mimetype": "text/x-python",
   "name": "python",
   "nbconvert_exporter": "python",
   "pygments_lexer": "ipython3",
   "version": "3.4.4"
  }
 },
 "nbformat": 4,
 "nbformat_minor": 0
}
